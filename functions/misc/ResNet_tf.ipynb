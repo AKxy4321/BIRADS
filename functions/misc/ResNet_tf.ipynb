{
 "cells": [
  {
   "cell_type": "code",
   "execution_count": 1,
   "id": "a10cdc66-b679-4490-8d55-1df2fece21ff",
   "metadata": {},
   "outputs": [
    {
     "name": "stderr",
     "output_type": "stream",
     "text": [
      "2024-02-01 14:26:45.280388: E external/local_xla/xla/stream_executor/cuda/cuda_dnn.cc:9261] Unable to register cuDNN factory: Attempting to register factory for plugin cuDNN when one has already been registered\n",
      "2024-02-01 14:26:45.280483: E external/local_xla/xla/stream_executor/cuda/cuda_fft.cc:607] Unable to register cuFFT factory: Attempting to register factory for plugin cuFFT when one has already been registered\n",
      "2024-02-01 14:26:45.281288: E external/local_xla/xla/stream_executor/cuda/cuda_blas.cc:1515] Unable to register cuBLAS factory: Attempting to register factory for plugin cuBLAS when one has already been registered\n",
      "2024-02-01 14:26:45.288036: I tensorflow/core/platform/cpu_feature_guard.cc:182] This TensorFlow binary is optimized to use available CPU instructions in performance-critical operations.\n",
      "To enable the following instructions: AVX2 FMA, in other operations, rebuild TensorFlow with the appropriate compiler flags.\n",
      "2024-02-01 14:26:46.105491: W tensorflow/compiler/tf2tensorrt/utils/py_utils.cc:38] TF-TRT Warning: Could not find TensorRT\n"
     ]
    }
   ],
   "source": [
    "import tensorflow as tf\n",
    "import os\n",
    "\n",
    "tf.get_logger().setLevel('ERROR')\n",
    "os.environ['TF_CPP_MIN_LOG_LEVEL'] = '2'"
   ]
  },
  {
   "cell_type": "code",
   "execution_count": 2,
   "id": "4caf540a-2da3-41cf-91b1-ff3d95f52b39",
   "metadata": {},
   "outputs": [
    {
     "name": "stdout",
     "output_type": "stream",
     "text": [
      "TensorFlow version: 2.15.0\n",
      "GPU is available\n",
      "GPU: /physical_device:GPU:0\n",
      "TensorFlow is built with CUDA support.\n"
     ]
    },
    {
     "name": "stderr",
     "output_type": "stream",
     "text": [
      "2024-02-01 14:26:47.116700: I external/local_xla/xla/stream_executor/cuda/cuda_executor.cc:887] could not open file to read NUMA node: /sys/bus/pci/devices/0000:01:00.0/numa_node\n",
      "Your kernel may have been built without NUMA support.\n",
      "2024-02-01 14:26:47.143690: I external/local_xla/xla/stream_executor/cuda/cuda_executor.cc:887] could not open file to read NUMA node: /sys/bus/pci/devices/0000:01:00.0/numa_node\n",
      "Your kernel may have been built without NUMA support.\n",
      "2024-02-01 14:26:47.143747: I external/local_xla/xla/stream_executor/cuda/cuda_executor.cc:887] could not open file to read NUMA node: /sys/bus/pci/devices/0000:01:00.0/numa_node\n",
      "Your kernel may have been built without NUMA support.\n"
     ]
    }
   ],
   "source": [
    "import tensorflow as tf\n",
    "import os\n",
    "\n",
    "# Check TensorFlow version\n",
    "print(\"TensorFlow version:\", tf.__version__)\n",
    "\n",
    "gpus = tf.config.list_physical_devices('GPU')\n",
    "if gpus:\n",
    "    for gpu in gpus:\n",
    "        print(\"GPU is available\")\n",
    "        print(\"GPU:\", gpu.name)\n",
    "else:\n",
    "    print(\"No GPU devices found.\")\n",
    "\n",
    "# Check if TensorFlow is built with CUDA support\n",
    "if tf.test.is_built_with_cuda():\n",
    "    print(\"TensorFlow is built with CUDA support.\")\n",
    "else:\n",
    "    print(\"TensorFlow is NOT built with CUDA support.\")"
   ]
  },
  {
   "cell_type": "markdown",
   "id": "1b8e4ca3-aa2b-46a5-b0b9-cd2fdd401148",
   "metadata": {},
   "source": [
    "###### import tensorflow as tf\n",
    "from tensorflow.keras import layers, models\n",
    "from tensorflow.keras.applications import ResNet50\n",
    "from tensorflow.keras.preprocessing.image import ImageDataGenerator\n",
    "import os"
   ]
  },
  {
   "cell_type": "code",
   "execution_count": 3,
   "id": "72c1d9d0-79a7-4daf-9047-e0ab7a4f78ee",
   "metadata": {},
   "outputs": [
    {
     "name": "stderr",
     "output_type": "stream",
     "text": [
      "2024-02-01 14:26:47.272175: I external/local_xla/xla/stream_executor/cuda/cuda_executor.cc:887] could not open file to read NUMA node: /sys/bus/pci/devices/0000:01:00.0/numa_node\n",
      "Your kernel may have been built without NUMA support.\n",
      "2024-02-01 14:26:47.272284: I external/local_xla/xla/stream_executor/cuda/cuda_executor.cc:887] could not open file to read NUMA node: /sys/bus/pci/devices/0000:01:00.0/numa_node\n",
      "Your kernel may have been built without NUMA support.\n",
      "2024-02-01 14:26:47.272322: I external/local_xla/xla/stream_executor/cuda/cuda_executor.cc:887] could not open file to read NUMA node: /sys/bus/pci/devices/0000:01:00.0/numa_node\n",
      "Your kernel may have been built without NUMA support.\n",
      "2024-02-01 14:26:47.538017: I external/local_xla/xla/stream_executor/cuda/cuda_executor.cc:887] could not open file to read NUMA node: /sys/bus/pci/devices/0000:01:00.0/numa_node\n",
      "Your kernel may have been built without NUMA support.\n",
      "2024-02-01 14:26:47.538086: I external/local_xla/xla/stream_executor/cuda/cuda_executor.cc:887] could not open file to read NUMA node: /sys/bus/pci/devices/0000:01:00.0/numa_node\n",
      "Your kernel may have been built without NUMA support.\n",
      "2024-02-01 14:26:47.538094: I tensorflow/core/common_runtime/gpu/gpu_device.cc:2022] Could not identify NUMA node of platform GPU id 0, defaulting to 0.  Your kernel may not have been built with NUMA support.\n",
      "2024-02-01 14:26:47.538138: I external/local_xla/xla/stream_executor/cuda/cuda_executor.cc:887] could not open file to read NUMA node: /sys/bus/pci/devices/0000:01:00.0/numa_node\n",
      "Your kernel may have been built without NUMA support.\n",
      "2024-02-01 14:26:47.538155: I tensorflow/core/common_runtime/gpu/gpu_device.cc:1929] Created device /job:localhost/replica:0/task:0/device:GPU:0 with 2259 MB memory:  -> device: 0, name: NVIDIA GeForce GTX 1650, pci bus id: 0000:01:00.0, compute capability: 7.5\n"
     ]
    },
    {
     "data": {
      "text/plain": [
       "175"
      ]
     },
     "execution_count": 3,
     "metadata": {},
     "output_type": "execute_result"
    }
   ],
   "source": [
    "from tensorflow.keras import models\n",
    "from tensorflow.keras.applications import ResNet50\n",
    "from tensorflow.keras import layers\n",
    "\n",
    "# Load pre-trained ResNet-50 model (excluding the top classification layers)\n",
    "base_model = ResNet50(weights='imagenet', include_top=False, input_shape=(224, 224, 3))\n",
    "\n",
    "model_layers = len(base_model.layers)\n",
    "\n",
    "# Freeze the layers of the pre-trained model\n",
    "for layer in base_model.layers:\n",
    "    layer.trainable = False"
   ]
  },
  {
   "cell_type": "code",
   "execution_count": 4,
   "id": "d98bc8f3-5ab4-4dfd-817f-9746f305fa63",
   "metadata": {},
   "outputs": [],
   "source": [
    "num_classes = 5\n",
    "batch_size = 10\n",
    "\n",
    "# Add custom classification head\n",
    "model = models.Sequential()\n",
    "model.add(base_model)\n",
    "model.add(layers.GlobalAveragePooling2D())\n",
    "model.add(layers.Dense(256, activation='relu'))\n",
    "model.add(layers.Dropout(0.5))\n",
    "model.add(layers.Dense(num_classes, activation='softmax'))  # num_classes is the number of classes in your dataset\n",
    "\n",
    "# Compile the model\n",
    "model.compile(optimizer='adam', loss='categorical_crossentropy', metrics=['accuracy'])"
   ]
  },
  {
   "cell_type": "code",
   "execution_count": 5,
   "id": "0b38431a-dbe1-4fcc-9b17-d099f3a6e10f",
   "metadata": {},
   "outputs": [],
   "source": [
    "from tensorflow.keras.preprocessing.image import ImageDataGenerator\n",
    "\n",
    "# Create an ImageDataGenerator for data augmentation and loading the dataset\n",
    "train_datagen = ImageDataGenerator(\n",
    "    rescale=1./255,\n",
    "    shear_range=0.2,\n",
    "    zoom_range=0.2,\n",
    "    horizontal_flip=True,\n",
    "    validation_split=0.2  # 80% training, 20% validation\n",
    ")\n",
    "\n",
    "dataset_path = os.path.join('.', 'vindr')"
   ]
  },
  {
   "cell_type": "code",
   "execution_count": 6,
   "id": "1d58f058",
   "metadata": {},
   "outputs": [
    {
     "name": "stdout",
     "output_type": "stream",
     "text": [
      "Found 80 images belonging to 5 classes.\n",
      "Found 20 images belonging to 5 classes.\n"
     ]
    }
   ],
   "source": [
    "# Create separate training and validation generators\n",
    "train_generator = train_datagen.flow_from_directory(\n",
    "    dataset_path,\n",
    "    target_size=(224, 224),\n",
    "    batch_size=batch_size,\n",
    "    class_mode='categorical',\n",
    "    subset='training'  # Use training split\n",
    ")\n",
    "\n",
    "validation_generator = train_datagen.flow_from_directory(\n",
    "    dataset_path,\n",
    "    target_size=(224, 224),\n",
    "    batch_size=batch_size,\n",
    "    class_mode='categorical',\n",
    "    subset='validation'  # Use validation split\n",
    ")"
   ]
  },
  {
   "cell_type": "code",
   "execution_count": 7,
   "id": "8cd3cc49-c4f5-47dd-9c2c-e93754487dd8",
   "metadata": {},
   "outputs": [
    {
     "name": "stdout",
     "output_type": "stream",
     "text": [
      "Epoch 1/5\n"
     ]
    },
    {
     "name": "stderr",
     "output_type": "stream",
     "text": [
      "2024-02-01 14:26:56.674685: I external/local_xla/xla/stream_executor/cuda/cuda_dnn.cc:454] Loaded cuDNN version 8904\n",
      "2024-02-01 14:27:00.443120: I external/local_xla/xla/service/service.cc:168] XLA service 0x7f3e24d1d330 initialized for platform CUDA (this does not guarantee that XLA will be used). Devices:\n",
      "2024-02-01 14:27:00.443179: I external/local_xla/xla/service/service.cc:176]   StreamExecutor device (0): NVIDIA GeForce GTX 1650, Compute Capability 7.5\n",
      "2024-02-01 14:27:00.448895: I tensorflow/compiler/mlir/tensorflow/utils/dump_mlir_util.cc:269] disabling MLIR crash reproducer, set env var `MLIR_CRASH_REPRODUCER_DIRECTORY` to enable.\n",
      "WARNING: All log messages before absl::InitializeLog() is called are written to STDERR\n",
      "I0000 00:00:1706777820.538915    9078 device_compiler.h:186] Compiled cluster using XLA!  This line is logged at most once for the lifetime of the process.\n"
     ]
    },
    {
     "name": "stdout",
     "output_type": "stream",
     "text": [
      "8/8 [==============================] - 24s 2s/step - loss: 1.9160 - accuracy: 0.2000 - val_loss: 1.6281 - val_accuracy: 0.2000\n",
      "Epoch 2/5\n",
      "8/8 [==============================] - 19s 2s/step - loss: 1.8642 - accuracy: 0.2000 - val_loss: 1.6975 - val_accuracy: 0.2000\n",
      "Epoch 3/5\n",
      "8/8 [==============================] - 19s 2s/step - loss: 1.8120 - accuracy: 0.1625 - val_loss: 1.6268 - val_accuracy: 0.3000\n",
      "Epoch 4/5\n",
      "8/8 [==============================] - 18s 2s/step - loss: 1.6874 - accuracy: 0.2250 - val_loss: 1.6108 - val_accuracy: 0.2000\n",
      "Epoch 5/5\n",
      "8/8 [==============================] - 18s 2s/step - loss: 1.6479 - accuracy: 0.2375 - val_loss: 1.6107 - val_accuracy: 0.2000\n"
     ]
    },
    {
     "data": {
      "text/plain": [
       "<keras.src.callbacks.History at 0x7f3e9c108f10>"
      ]
     },
     "execution_count": 7,
     "metadata": {},
     "output_type": "execute_result"
    }
   ],
   "source": [
    "epochs_custom_layers = 5\n",
    "model.fit(train_generator, \n",
    "          epochs=epochs_custom_layers, \n",
    "          steps_per_epoch=len(train_generator), \n",
    "          validation_data=validation_generator, \n",
    "          validation_steps=len(validation_generator),\n",
    "          verbose=1\n",
    ")"
   ]
  },
  {
   "cell_type": "code",
   "execution_count": 8,
   "id": "b425f24e-d3d6-4ccf-86a2-3d1d5407e87b",
   "metadata": {},
   "outputs": [],
   "source": [
    "for layer in base_model.layers[model_layers:]:\n",
    "    layer.trainable = True\n",
    "\n",
    "# Recompile the model after unfreezing some layers\n",
    "model.compile(optimizer='adam', loss='categorical_crossentropy', metrics=['accuracy'])"
   ]
  },
  {
   "cell_type": "code",
   "execution_count": 9,
   "id": "6810347c-8aca-4359-a77b-c149efd1d388",
   "metadata": {},
   "outputs": [
    {
     "name": "stdout",
     "output_type": "stream",
     "text": [
      "Epoch 1/10\n",
      "8/8 [==============================] - 23s 3s/step - loss: 1.7463 - accuracy: 0.2000 - val_loss: 1.6199 - val_accuracy: 0.2000\n",
      "Epoch 2/10\n",
      "8/8 [==============================] - 18s 2s/step - loss: 1.6638 - accuracy: 0.1750 - val_loss: 1.6137 - val_accuracy: 0.2000\n",
      "Epoch 3/10\n",
      "8/8 [==============================] - 18s 2s/step - loss: 1.6969 - accuracy: 0.1750 - val_loss: 1.6123 - val_accuracy: 0.2000\n",
      "Epoch 4/10\n",
      "8/8 [==============================] - 19s 2s/step - loss: 1.6426 - accuracy: 0.1625 - val_loss: 1.6102 - val_accuracy: 0.2000\n",
      "Epoch 5/10\n",
      "8/8 [==============================] - 18s 2s/step - loss: 1.6344 - accuracy: 0.1750 - val_loss: 1.6123 - val_accuracy: 0.2000\n",
      "Epoch 6/10\n",
      "8/8 [==============================] - 18s 2s/step - loss: 1.6233 - accuracy: 0.1875 - val_loss: 1.6133 - val_accuracy: 0.2000\n",
      "Epoch 7/10\n",
      "8/8 [==============================] - 19s 2s/step - loss: 1.6243 - accuracy: 0.1750 - val_loss: 1.6130 - val_accuracy: 0.2000\n",
      "Epoch 8/10\n",
      "8/8 [==============================] - 18s 2s/step - loss: 1.6331 - accuracy: 0.2250 - val_loss: 1.6140 - val_accuracy: 0.2000\n",
      "Epoch 9/10\n",
      "8/8 [==============================] - 18s 2s/step - loss: 1.6218 - accuracy: 0.1750 - val_loss: 1.6144 - val_accuracy: 0.2000\n",
      "Epoch 10/10\n",
      "8/8 [==============================] - 18s 2s/step - loss: 1.6146 - accuracy: 0.2375 - val_loss: 1.6112 - val_accuracy: 0.2000\n"
     ]
    }
   ],
   "source": [
    "epochs = 10\n",
    "\n",
    "# Fine-tune the model on your dataset\n",
    "model.fit(\n",
    "            train_generator,\n",
    "            epochs=epochs,\n",
    "            steps_per_epoch=len(train_generator),\n",
    "            validation_data=validation_generator,\n",
    "            validation_steps=len(validation_generator),\n",
    "            verbose=1\n",
    "        )"
   ]
  },
  {
   "cell_type": "code",
   "execution_count": 11,
   "id": "b91f398d",
   "metadata": {},
   "outputs": [
    {
     "name": "stderr",
     "output_type": "stream",
     "text": [
      "/home/akxy4321/miniconda3/envs/tf/lib/python3.10/site-packages/keras/src/engine/training.py:3103: UserWarning: You are saving your model as an HDF5 file via `model.save()`. This file format is considered legacy. We recommend using instead the native Keras format, e.g. `model.save('my_model.keras')`.\n",
      "  saving_api.save_model(\n"
     ]
    }
   ],
   "source": [
    "# # Save the entire model\n",
    "# model.save(os.path.join('model','finetune_BIRADS.h5'))\n",
    "\n",
    "# # # Save only the weights\n",
    "# # model.save_weights('path_to_save_weights/my_model_weights.h5')\n",
    "\n",
    "# # # Load the entire model\n",
    "# # loaded_model = tf.keras.models.load_model('path_to_save_model/my_model.h5')\n",
    "\n",
    "# # # Load only the weights\n",
    "# # model.load_weights('path_to_save_weights/my_model_weights.h5')\n"
   ]
  },
  {
   "cell_type": "code",
   "execution_count": null,
   "id": "67bf5420-ccb5-429a-85b8-8dcd0176663f",
   "metadata": {},
   "outputs": [],
   "source": []
  }
 ],
 "metadata": {
  "kernelspec": {
   "display_name": "Python 3 (ipykernel)",
   "language": "python",
   "name": "python3"
  },
  "language_info": {
   "codemirror_mode": {
    "name": "ipython",
    "version": 3
   },
   "file_extension": ".py",
   "mimetype": "text/x-python",
   "name": "python",
   "nbconvert_exporter": "python",
   "pygments_lexer": "ipython3",
   "version": "3.10.13"
  }
 },
 "nbformat": 4,
 "nbformat_minor": 5
}
